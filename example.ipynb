{
 "cells": [
  {
   "cell_type": "code",
   "execution_count": 1,
   "id": "a5e95489-8d93-4fbb-8251-88f95f341ade",
   "metadata": {},
   "outputs": [
    {
     "name": "stdout",
     "output_type": "stream",
     "text": [
      "16\n"
     ]
    }
   ],
   "source": [
    "\n",
    "\n",
    "def square(x):\n",
    "\treturn x * x\n",
    "\n",
    "\n",
    "print (square(4))\n"
   ]
  },
  {
   "cell_type": "code",
   "execution_count": 3,
   "id": "da5256d5-7272-4f1a-9e43-170a763d5da3",
   "metadata": {
    "scrolled": true
   },
   "outputs": [
    {
     "name": "stdout",
     "output_type": "stream",
     "text": [
      "2\n"
     ]
    }
   ],
   "source": [
    "def sub (x, y):\n",
    "    return x - y\n",
    "\n",
    "print(sub(8,6))"
   ]
  },
  {
   "cell_type": "code",
   "execution_count": 2,
   "id": "ea8d141e-aa0b-4def-8f5b-5a7bcb330740",
   "metadata": {
    "scrolled": true
   },
   "outputs": [
    {
     "name": "stdout",
     "output_type": "stream",
     "text": [
      "14\n"
     ]
    }
   ],
   "source": [
    "def sum(x, y):\n",
    "    return x + y\n",
    "\n",
    "print(sum(8,6))"
   ]
  },
  {
   "cell_type": "code",
   "execution_count": 1,
   "id": "a1228f99-9502-41ba-a78d-d6c9f45e9fcc",
   "metadata": {},
   "outputs": [
    {
     "name": "stdin",
     "output_type": "stream",
     "text": [
      "please enter your age:  58\n"
     ]
    },
    {
     "name": "stdout",
     "output_type": "stream",
     "text": [
      "<class 'str'>\n"
     ]
    }
   ],
   "source": [
    "n = input('please enter your age: ')\n",
    "print(type(n))"
   ]
  },
  {
   "cell_type": "code",
   "execution_count": 6,
   "id": "0da35522-af1f-427f-93e7-e9a17289b3da",
   "metadata": {},
   "outputs": [
    {
     "name": "stdin",
     "output_type": "stream",
     "text": [
      "Por favor ingrese el número de segundos:  900\n"
     ]
    },
    {
     "name": "stdout",
     "output_type": "stream",
     "text": [
      "Hrs= 0 mins= 15 secs= 0\n"
     ]
    }
   ],
   "source": [
    "def convert_seconds():\n",
    "    # Pedir input al usuario\n",
    "    str_seconds = input(\"Por favor ingrese el número de segundos: \")\n",
    "    \n",
    "    # Convertir el input a entero\n",
    "    total_secs = int(str_seconds)\n",
    "    \n",
    "    # Calcular horas\n",
    "    hours = total_secs // 3600\n",
    "    \n",
    "    # Calcular segundos restantes después de las horas\n",
    "    secs_still_remaining = total_secs % 3600\n",
    "    \n",
    "    # Calcular minutos\n",
    "    minutes = secs_still_remaining // 60\n",
    "    \n",
    "    # Calcular segundos finales\n",
    "    secs_finally_remaining = secs_still_remaining % 60\n",
    "    \n",
    "    # Imprimir resultado\n",
    "    print(\"Hrs=\", hours, \"mins=\", minutes, \"secs=\", secs_finally_remaining)\n",
    "\n",
    "# Ejemplo de uso\n",
    "convert_seconds()"
   ]
  },
  {
   "cell_type": "code",
   "execution_count": null,
   "id": "5dde47d5-13f1-441a-a0c7-f6c443a2c262",
   "metadata": {},
   "outputs": [],
   "source": []
  }
 ],
 "metadata": {
  "kernelspec": {
   "display_name": "Python 3 (ipykernel)",
   "language": "python",
   "name": "python3"
  },
  "language_info": {
   "codemirror_mode": {
    "name": "ipython",
    "version": 3
   },
   "file_extension": ".py",
   "mimetype": "text/x-python",
   "name": "python",
   "nbconvert_exporter": "python",
   "pygments_lexer": "ipython3",
   "version": "3.12.9"
  }
 },
 "nbformat": 4,
 "nbformat_minor": 5
}
