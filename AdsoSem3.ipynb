{
 "cells": [
  {
   "cell_type": "markdown",
   "id": "782a7b18-4d5d-4056-a42f-c887a2e6d2c0",
   "metadata": {},
   "source": [
    "<h2>Area y Perimetros de Figuras geometricas</h2>\n",
    "<h3>Cuadrado</h3>\n",
    "<code>area = L*L ;</code>"
   ]
  },
  {
   "cell_type": "code",
   "execution_count": 1,
   "id": "5cfacc80-18d5-4a04-a90a-f61848bee1c6",
   "metadata": {},
   "outputs": [
    {
     "name": "stdout",
     "output_type": "stream",
     "text": [
      "324\n"
     ]
    }
   ],
   "source": [
    "def square(x):\n",
    "\treturn x * x\n",
    "\n",
    "\n",
    "print (square(18))"
   ]
  },
  {
   "cell_type": "markdown",
   "id": "1de29052",
   "metadata": {},
   "source": [
    "  <h2>Perimetro</h2>\n",
    "    <h3 class=\"note\">perimetro de cuadrado</h3>\n",
    "    <code> perimetro= L+L+L+L O L*4</code>"
   ]
  },
  {
   "cell_type": "code",
   "execution_count": null,
   "id": "b623bfec-9fb2-40b3-9602-8060053396c6",
   "metadata": {},
   "outputs": [
    {
     "name": "stdout",
     "output_type": "stream",
     "text": [
      "32\n"
     ]
    }
   ],
   "source": [
    "def squarePe(x):\n",
    "\treturn x * 4\n",
    "\n",
    "\n",
    "print (squarePe(8))"
   ]
  },
  {
   "cell_type": "markdown",
   "id": "389fa6dd",
   "metadata": {},
   "source": [
    "<h2></h2>\n",
    "<h3></h3>\n",
    "<code></code>\n"
   ]
  },
  {
   "cell_type": "markdown",
   "id": "924c92e0",
   "metadata": {},
   "source": [
    "<h2>Area y Perimetro de Rectangulo</h2>\n",
    "<h3>Area</h3>\n",
    "<code>A=b*h/2 </code>\n"
   ]
  },
  {
   "cell_type": "code",
   "execution_count": 3,
   "id": "6abc8e17",
   "metadata": {},
   "outputs": [
    {
     "name": "stdout",
     "output_type": "stream",
     "text": [
      "176\n"
     ]
    }
   ],
   "source": [
    "def areaRec(b,h):\n",
    "\treturn b * h\n",
    "\n",
    "\n",
    "print (areaRec(8,22))"
   ]
  },
  {
   "cell_type": "markdown",
   "id": "0e3e9e3d",
   "metadata": {},
   "source": [
    "<h3>Perimetro Rectangulo</h3>\n",
    "<code>P= b+b+h+h\n",
    "P=b*2+h*2</code>\n"
   ]
  },
  {
   "cell_type": "code",
   "execution_count": 5,
   "id": "2b92a64c",
   "metadata": {},
   "outputs": [
    {
     "name": "stdout",
     "output_type": "stream",
     "text": [
      "60\n"
     ]
    }
   ],
   "source": [
    "def perimRec(b,h):\n",
    "\treturn b * 2 + h * 2\n",
    "\n",
    "\n",
    "print (perimRec(8,22))"
   ]
  },
  {
   "cell_type": "markdown",
   "id": "8b2841f6",
   "metadata": {},
   "source": [
    "<h2>Area y Perimetro de Triangulo</h2>\n",
    "<h3>Area</h3>\n",
    "<code>A=b*h/2\n",
    "P=L+L+L o L*3</code>\n"
   ]
  },
  {
   "cell_type": "markdown",
   "id": "22b0a771",
   "metadata": {},
   "source": []
  },
  {
   "cell_type": "code",
   "execution_count": 7,
   "id": "6cf7a3d9",
   "metadata": {},
   "outputs": [
    {
     "name": "stdout",
     "output_type": "stream",
     "text": [
      "46\n"
     ]
    }
   ],
   "source": [
    "def areaTri(b,h):\n",
    "\treturn b * h / 2\n",
    "\n",
    "\n",
    "print (areaRec(15,8))"
   ]
  },
  {
   "cell_type": "markdown",
   "id": "8341ad1a",
   "metadata": {},
   "source": [
    "<h3>Perimetro Triangulo</h3>\n",
    "<code>P=L+L+L o L*3</code>\n"
   ]
  },
  {
   "cell_type": "code",
   "execution_count": 10,
   "id": "a5206dab",
   "metadata": {},
   "outputs": [
    {
     "name": "stdout",
     "output_type": "stream",
     "text": [
      "27\n"
     ]
    }
   ],
   "source": [
    "def perimTri(l):\n",
    "\treturn l * 3\n",
    "\n",
    "\n",
    "print (perimTri(9))"
   ]
  },
  {
   "cell_type": "markdown",
   "id": "3ad81e3d",
   "metadata": {},
   "source": [
    "<h2>Area y Perimetro de Rombo</h2>\n",
    "<h3>Area</h3>\n",
    "<code>A=d1*d2/2 </code>\n"
   ]
  },
  {
   "cell_type": "code",
   "execution_count": 14,
   "id": "e1421e7f",
   "metadata": {},
   "outputs": [
    {
     "name": "stdout",
     "output_type": "stream",
     "text": [
      "67.5\n"
     ]
    }
   ],
   "source": [
    "def areaRombo(d1,d2):\n",
    "\treturn d1 * d2 / 2\n",
    "\n",
    "\n",
    "print (areaRombo(9,15))"
   ]
  },
  {
   "cell_type": "markdown",
   "id": "9dacb740",
   "metadata": {},
   "source": [
    "<h3>Perimetro</h3>\n",
    "<code>P= L+L+L+L </code>"
   ]
  },
  {
   "cell_type": "code",
   "execution_count": 15,
   "id": "b9be1462",
   "metadata": {},
   "outputs": [
    {
     "name": "stdout",
     "output_type": "stream",
     "text": [
      "48\n"
     ]
    }
   ],
   "source": [
    "def periRombo(d1,d2):\n",
    "\treturn d1 * 2 + d2 * 2\n",
    "\n",
    "\n",
    "print (periRombo(9,15))"
   ]
  },
  {
   "cell_type": "markdown",
   "id": "c9cf3488",
   "metadata": {},
   "source": [
    " <h2>Area y perimetro de romboide</h2>\n",
    "    <h3>Area romboide</h3>\n",
    "    <code>area= b*h perimetro=b+b+h+h</code>\n",
    "    "
   ]
  },
  {
   "cell_type": "code",
   "execution_count": 17,
   "id": "04206be6",
   "metadata": {},
   "outputs": [
    {
     "name": "stdout",
     "output_type": "stream",
     "text": [
      "135\n"
     ]
    }
   ],
   "source": [
    "def AreaRomboide(b,h):\n",
    "\treturn b * h\n",
    "\n",
    "\n",
    "print (AreaRomboide(9,15))"
   ]
  },
  {
   "cell_type": "markdown",
   "id": "bcce3557",
   "metadata": {},
   "source": [
    "<h3>perimetro romboide</h3>\n",
    "    <code>perimetro=b+b+h+h</code>\n"
   ]
  },
  {
   "cell_type": "code",
   "execution_count": 18,
   "id": "4579acc9",
   "metadata": {},
   "outputs": [
    {
     "name": "stdout",
     "output_type": "stream",
     "text": [
      "48\n"
     ]
    }
   ],
   "source": [
    "def PerimRomboide(b,h):\n",
    "\treturn b * 2 + h * 2\n",
    "\n",
    "\n",
    "print (PerimRomboide(9,15))"
   ]
  },
  {
   "cell_type": "markdown",
   "id": "c4dd0764",
   "metadata": {},
   "source": [
    "<h1 class=\"titulo\">Area y perimetro de Solidos</h1>\n",
    "<h2 class=\"subtitulo\">Area, Perimetro de Esfera</h2>\n",
    "<article>\n",
    "    <p>Lorem ipsum dolor sit, amet consectetur adipisicing elit. Voluptatibus magni nam, excepturi enim placeat cumque, dolorum debitis mollitia, modi laboriosam itaque consequatur. Voluptate deserunt aspernatur eum sapiente cupiditate molestiae quo!</p>\n",
    "    <p>Lorem ipsum dolor sit, amet consectetur adipisicing elit. Voluptatibus magni nam, excepturi enim placeat cumque, dolorum debitis mollitia, modi laboriosam itaque consequatur. Voluptate deserunt aspernatur eum sapiente cupiditate molestiae quo!</p>\n",
    "    <p>Lorem ipsum dolor sit, amet consectetur adipisicing elit. Voluptatibus magni nam, excepturi enim placeat cumque, dolorum debitis mollitia, modi laboriosam itaque consequatur. Voluptate deserunt aspernatur eum sapiente cupiditate molestiae quo!</p>\n",
    "    <p>Lorem ipsum dolor sit, amet consectetur adipisicing elit. Voluptatibus magni nam, excepturi enim placeat cumque, dolorum debitis mollitia, modi laboriosam itaque consequatur. Voluptate deserunt aspernatur eum sapiente cupiditate molestiae quo!</p>\n",
    "    <p>Lorem ipsum dolor sit, amet consectetur adipisicing elit. Voluptatibus magni nam, excepturi enim placeat cumque, dolorum debitis mollitia, modi laboriosam itaque consequatur. Voluptate deserunt aspernatur eum sapiente cupiditate molestiae quo!</p>\n",
    "</article>\n",
    "\n",
    "\n"
   ]
  },
  {
   "cell_type": "markdown",
   "id": "a43178c0",
   "metadata": {},
   "source": []
  }
 ],
 "metadata": {
  "kernelspec": {
   "display_name": "Python 3 (ipykernel)",
   "language": "python",
   "name": "python3"
  },
  "language_info": {
   "codemirror_mode": {
    "name": "ipython",
    "version": 3
   },
   "file_extension": ".py",
   "mimetype": "text/x-python",
   "name": "python",
   "nbconvert_exporter": "python",
   "pygments_lexer": "ipython3",
   "version": "3.12.9"
  }
 },
 "nbformat": 4,
 "nbformat_minor": 5
}
