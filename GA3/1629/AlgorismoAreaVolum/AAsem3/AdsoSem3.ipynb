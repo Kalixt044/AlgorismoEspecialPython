{
 "cells": [
  {
   "cell_type": "markdown",
   "id": "782a7b18-4d5d-4056-a42f-c887a2e6d2c0",
   "metadata": {},
   "source": [
    "<h2>Area y Perimetros de Figuras geometricas</h2>\n",
    "<h3>Cuadrado</h3>\n",
    "<code>area = L*L ;</code>"
   ]
  },
  {
   "cell_type": "code",
   "execution_count": 1,
   "id": "5cfacc80-18d5-4a04-a90a-f61848bee1c6",
   "metadata": {},
   "outputs": [
    {
     "name": "stdout",
     "output_type": "stream",
     "text": [
      "324\n"
     ]
    }
   ],
   "source": [
    "def square(x):\n",
    "\treturn x * x\n",
    "\n",
    "\n",
    "print (square(18))"
   ]
  },
  {
   "cell_type": "markdown",
   "id": "1de29052",
   "metadata": {},
   "source": [
    "  <h2>Perimetro</h2>\n",
    "    <h3 class=\"note\">perimetro de cuadrado</h3>\n",
    "    <code> perimetro= L+L+L+L O L*4</code>"
   ]
  },
  {
   "cell_type": "code",
   "execution_count": null,
   "id": "b623bfec-9fb2-40b3-9602-8060053396c6",
   "metadata": {},
   "outputs": [
    {
     "name": "stdout",
     "output_type": "stream",
     "text": [
      "32\n"
     ]
    }
   ],
   "source": [
    "def squarePe(x):\n",
    "\treturn x * 4\n",
    "\n",
    "\n",
    "print (squarePe(8))"
   ]
  },
  {
   "cell_type": "markdown",
   "id": "389fa6dd",
   "metadata": {},
   "source": [
    "<h2></h2>\n",
    "<h3></h3>\n",
    "<code></code>\n"
   ]
  },
  {
   "cell_type": "markdown",
   "id": "924c92e0",
   "metadata": {},
   "source": [
    "<h3>Area y Perimetro de Rectangulo</h3>\n",
    "<h4>Area</h4>\n",
    "<code>A=b*h/2 </code>\n"
   ]
  },
  {
   "cell_type": "code",
   "execution_count": 3,
   "id": "6abc8e17",
   "metadata": {},
   "outputs": [
    {
     "name": "stdout",
     "output_type": "stream",
     "text": [
      "176\n"
     ]
    }
   ],
   "source": [
    "def areaRec(b,h):\n",
    "\treturn b * h\n",
    "\n",
    "\n",
    "print (areaRec(8,22))"
   ]
  },
  {
   "cell_type": "markdown",
   "id": "0e3e9e3d",
   "metadata": {},
   "source": [
    "<h3>Perimetro Rectangulo</h3>\n",
    "<code>P= b+b+h+h\n",
    "P=b*2+h*2</code>\n"
   ]
  },
  {
   "cell_type": "code",
   "execution_count": 5,
   "id": "2b92a64c",
   "metadata": {},
   "outputs": [
    {
     "name": "stdout",
     "output_type": "stream",
     "text": [
      "60\n"
     ]
    }
   ],
   "source": [
    "def perimRec(b,h):\n",
    "\treturn b * 2 + h * 2\n",
    "\n",
    "\n",
    "print (perimRec(8,22))"
   ]
  },
  {
   "cell_type": "markdown",
   "id": "8b2841f6",
   "metadata": {},
   "source": [
    "<h2>Area y Perimetro de Triangulo</h2>\n",
    "<h3>Area</h3>\n",
    "<code>A=b*h/2\n",
    "P=L+L+L o L*3</code>\n"
   ]
  },
  {
   "cell_type": "markdown",
   "id": "c327850d",
   "metadata": {},
   "source": []
  },
  {
   "cell_type": "markdown",
   "id": "22b0a771",
   "metadata": {},
   "source": []
  },
  {
   "cell_type": "code",
   "execution_count": 7,
   "id": "6cf7a3d9",
   "metadata": {},
   "outputs": [
    {
     "name": "stdout",
     "output_type": "stream",
     "text": [
      "46\n"
     ]
    }
   ],
   "source": [
    "def areaTri(b,h):\n",
    "\treturn b * h / 2\n",
    "\n",
    "\n",
    "print (areaRec(15,8))"
   ]
  },
  {
   "cell_type": "markdown",
   "id": "8341ad1a",
   "metadata": {},
   "source": [
    "<h3>Perimetro Triangulo</h3>\n",
    "<code>P=L+L+L o L*3</code>\n"
   ]
  },
  {
   "cell_type": "code",
   "execution_count": 10,
   "id": "a5206dab",
   "metadata": {},
   "outputs": [
    {
     "name": "stdout",
     "output_type": "stream",
     "text": [
      "27\n"
     ]
    }
   ],
   "source": [
    "def perimTri(l):\n",
    "\treturn l * 3\n",
    "\n",
    "\n",
    "print (perimTri(9))"
   ]
  },
  {
   "cell_type": "markdown",
   "id": "3ad81e3d",
   "metadata": {},
   "source": [
    "<h2>Area y Perimetro de Rombo</h2>\n",
    "<h3>Area</h3>\n",
    "<code>A=d1*d2/2 </code>\n"
   ]
  },
  {
   "cell_type": "code",
   "execution_count": 14,
   "id": "e1421e7f",
   "metadata": {},
   "outputs": [
    {
     "name": "stdout",
     "output_type": "stream",
     "text": [
      "67.5\n"
     ]
    }
   ],
   "source": [
    "def areaRombo(d1,d2):\n",
    "\treturn d1 * d2 / 2\n",
    "\n",
    "\n",
    "print (areaRombo(9,15))"
   ]
  },
  {
   "cell_type": "markdown",
   "id": "9dacb740",
   "metadata": {},
   "source": [
    "<h3>Perimetro</h3>\n",
    "<code>P= L+L+L+L </code>"
   ]
  },
  {
   "cell_type": "code",
   "execution_count": 15,
   "id": "b9be1462",
   "metadata": {},
   "outputs": [
    {
     "name": "stdout",
     "output_type": "stream",
     "text": [
      "48\n"
     ]
    }
   ],
   "source": [
    "def periRombo(d1,d2):\n",
    "\treturn d1 * 2 + d2 * 2\n",
    "\n",
    "\n",
    "print (periRombo(9,15))"
   ]
  },
  {
   "cell_type": "markdown",
   "id": "c9cf3488",
   "metadata": {},
   "source": [
    " <h2>Area y perimetro de romboide</h2>\n",
    "    <h3>Area romboide</h3>\n",
    "    <code>area= b*h perimetro=b+b+h+h</code>\n",
    "    "
   ]
  },
  {
   "cell_type": "code",
   "execution_count": 17,
   "id": "04206be6",
   "metadata": {},
   "outputs": [
    {
     "name": "stdout",
     "output_type": "stream",
     "text": [
      "135\n"
     ]
    }
   ],
   "source": [
    "def AreaRomboide(b,h):\n",
    "\treturn b * h\n",
    "\n",
    "\n",
    "print (AreaRomboide(9,15))"
   ]
  },
  {
   "cell_type": "markdown",
   "id": "bcce3557",
   "metadata": {},
   "source": [
    "<h3>perimetro romboide</h3>\n",
    "    <code>perimetro=b+b+h+h</code>\n"
   ]
  },
  {
   "cell_type": "code",
   "execution_count": 18,
   "id": "4579acc9",
   "metadata": {},
   "outputs": [
    {
     "name": "stdout",
     "output_type": "stream",
     "text": [
      "48\n"
     ]
    }
   ],
   "source": [
    "def PerimRomboide(b,h):\n",
    "\treturn b * 2 + h * 2\n",
    "\n",
    "\n",
    "print (PerimRomboide(9,15))"
   ]
  },
  {
   "cell_type": "markdown",
   "id": "c4dd0764",
   "metadata": {},
   "source": [
    "def ejemplo_casa():\n",
    "    \"\"\"Ejemplo con valores predefinidos para prueba rápida\"\"\"\n",
    "    print(\"=== EJEMPLO DE CÁLCULO ===\")\n",
    "    \n",
    "    # Valores de ejemplo\n",
    "    cuadrado = area_cuadrado(4)      # 4x4 = 16 m²\n",
    "    rectangulo = area_rectangulo(6, 3)  # 6x3 = 18 m²\n",
    "    triangulo = area_triangulo(5, 4)    # (5x4)/2 = 10 m²\n",
    "    paralelogramo = area_paralelogramo(7, 2)  # 7x2 = 14 m²\n",
    "    trapecio = area_trapecio(8, 4, 3)   # ((8+4)x3)/2 = 18 m²\n",
    "    \n",
    "    total = cuadrado + rectangulo + triangulo + paralelogramo + trapecio\n",
    "    \n",
    "    print(f\"Cuadrado (4x4):           {cuadrado} m²\")\n",
    "    print(f\"Rectángulo (6x3):         {rectangulo} m²\")\n",
    "    print(f\"Triángulo (5x4):          {triangulo} m²\")\n",
    "    print(f\"Paralelogramo (7x2):      {paralelogramo} m²\")\n",
    "    print(f\"Trapecio (8,4,3):         {trapecio} m²\")\n",
    "    print(f\"ÁREA TOTAL DE LA CASA:    {total} m²\")\n",
    "\n",
    "# Ejecutar el programa\n",
    "if __name__ == \"__main__\":\n",
    "    print(\"Seleccione una opción:\")\n",
    "    print(\"1. Calcular con sus propios valores\")\n",
    "    print(\"2. Ver ejemplo con valores predefinidos\")\n",
    "    \n",
    "    opcion = input(\"Ingrese 1 o 2: \")\n",
    "    \n",
    "    if opcion == \"1\":\n",
    "        calcular_area_casa()\n",
    "    elif opcion == \"2\":\n",
    "        ejemplo_casa()\n",
    "    else:\n",
    "        print(\"Opción no válida. Ejecutando ejemplo:\")\n",
    "        ejemplo_casa()"
   ]
  },
  {
   "cell_type": "markdown",
   "id": "a43178c0",
   "metadata": {},
   "source": []
  }
 ],
 "metadata": {
  "kernelspec": {
   "display_name": "Python 3 (ipykernel)",
   "language": "python",
   "name": "python3"
  },
  "language_info": {
   "codemirror_mode": {
    "name": "ipython",
    "version": 3
   },
   "file_extension": ".py",
   "mimetype": "text/x-python",
   "name": "python",
   "nbconvert_exporter": "python",
   "pygments_lexer": "ipython3",
   "version": "3.13.5"
  }
 },
 "nbformat": 4,
 "nbformat_minor": 5
}
